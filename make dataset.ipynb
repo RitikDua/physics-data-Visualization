{
 "cells": [
  {
   "cell_type": "markdown",
   "metadata": {},
   "source": [
    "# Make  A Dataset\n",
    "\n",
    "This is a dataset used for experiment no.1"
   ]
  },
  {
   "cell_type": "code",
   "execution_count": 5,
   "metadata": {},
   "outputs": [],
   "source": [
    "# \n",
    "\n",
    "# importing pandas as pd  \n",
    "import pandas as pd  \n",
    "   \n",
    "# list of hall current and hall voltage \n",
    "hall_current = [0.15,0.20,1.04,2.38,3.77,4.59,5.29,6.28,7.43,8.17] \n",
    "hall_voltage = [0,0,0.003,0.006,0.010,0.013,0.015,0.014,0.016,0.016] \n",
    "  \n",
    "# dictionary of lists  \n",
    "dict = {'Current (in Ampere)': hall_current, 'Hall Voltage (in Volt)': hall_voltage}  \n",
    "     \n",
    "df = pd.DataFrame(dict) \n",
    "  \n",
    "# saving the dataframe \n",
    "df.to_csv('file.csv') \n"
   ]
  },
  {
   "cell_type": "code",
   "execution_count": null,
   "metadata": {},
   "outputs": [],
   "source": []
  },
  {
   "cell_type": "code",
   "execution_count": null,
   "metadata": {},
   "outputs": [],
   "source": []
  }
 ],
 "metadata": {
  "kernelspec": {
   "display_name": "Python 2",
   "language": "python",
   "name": "python2"
  },
  "language_info": {
   "codemirror_mode": {
    "name": "ipython",
    "version": 2
   },
   "file_extension": ".py",
   "mimetype": "text/x-python",
   "name": "python",
   "nbconvert_exporter": "python",
   "pygments_lexer": "ipython2",
   "version": "2.7.15+"
  }
 },
 "nbformat": 4,
 "nbformat_minor": 2
}
